{
 "cells": [
  {
   "cell_type": "markdown",
   "metadata": {},
   "source": [
    "# Graf arytmetyczny\n",
    "\n",
    "## Cel pracy: Ilustracja rezultatu ważnej częsci procesu oszacowywania wyrażeń arytmetycznych - pobudowania drzewa składniowego (w naszej implementacji nazywamy go grafem arytmetycznym)\n",
    "\n",
    "### Opis zagadnienia: Program implementuje REPL pętlę, która przyjmuje na wejściu wyrażenie arytmetyczne, a na wyjściu wyświetla graf arytmetyczny, reprezentujący dane wyrażenie. Graf arytmetyczny (rodzaj dzewa składniowego) to jest rekurencyjna struktura danych pomagająca oszacować wyrażenia arytmetyczne w notacji infiksowej (wewnętrznie korzystując się notacją posfiksową - także nazywana odwrotną notacją polską)\n",
    "\n",
    "#### Krótkie definicje terminów i pojęć wykorzystywanych dalej w opisie\n",
    "\n",
    "* **REPL** (ang. read-eval-print loop) – proste, interaktywne środowisko programowania. Popularne przykłady to wiersz poleceń powłoki również środowiska języków programowania takich jak Python, Ruby, Haskell, Scheme, Clojure i wielu innych. Praktycznie każdy język uruchamiany jako interpreter posiada REPL. Dzięki REPL użytkownik może wprowadzać polecenia, które zostaną wykonane a ich wynik wypisany na ekran.\n",
    "* **Wyrażenie arytmetyczne** – w językach programowania dowolne wyrażenie typu liczbowego. Może być ono złożone ze zmiennych, liczb, symboli działań itp.\n",
    "* **Drzewo składniowe**, drzewo **AST** (ang. abstract syntax tree) czyli drzewo składni abstrakcyjnej - drzewo etykietowane, wynik przeprowadzenia analizy składniowej zdania (słowa) zgodnie z pewną gramatyką. Każdy węzeł wewnętrzny tego drzewa reprezentują pewną konstrukcję języka, a jego synowie znaczące składowe tej konstrukcji.\n",
    "* **Zapis infiksowy** (zapis wrostkowy) – klasyczny sposób zapisywania wyrażeń z binarnymi (dwuargumentowymi) operacjami arytmetycznymi (dodawanie, mnożenie, potęgowanie, itd.).\n",
    "* **Odwrotna notacja polska** (ONP, ang. reverse Polish notation, RPN) – sposób zapisu wyrażeń arytmetycznych, w którym znak wykonywanej operacji umieszczony jest po operandach (zapis postfiksowy), a nie pomiędzy nimi jak w konwencjonalnym zapisie algebraicznym (zapis infiksowy) lub przed operandami jak w zwykłej notacji polskiej (zapis prefiksowy). Zapis ten pozwala na całkowitą rezygnację z użycia nawiasów w wyrażeniach, jako że jednoznacznie określa kolejność wykonywanych działań.\n",
    "* **Token** – pojedynczy element w języku programowania. Tokenem może być jakieś słowo, operator lub znak interpunkcyjny.\n",
    "\n",
    "\n",
    "#### Instrukcja obsługi\n",
    "1. Uruchomić program (w środowisku *jupyter notebook* nacisnąć przycisk **Run**) - musi się pojawić okno proszące o wprowadzenie wyrażenia.\n",
    "2. Wpowadzić wyrażenie. Dozwolone symbole: 0-9, +, -, *, /, %, A-Z, a-z, (, ), [spacja]. Wyrażenie musi być w notacji infiksowej (niezapomnieć nacisnąć Enter). I zaczekać na pojawienie się obrazu z grafem arytmetycznym reprezentującym wprowadzone wyrażenie.\n",
    "3. Aby zakończyć sesje z programem wpisz \"koniec zabawy\" lub \"q\" (od ang. quit)\n",
    "\n",
    "#### Przykładowa sesja z programem:\n",
    "1. Uruchamiamy program za pomocą przycisku **Run**\n",
    "![run](../img/run.png)\n",
    "2. Wprowadzamy wyrażenie: ``(2 + 2.7182) * x``\n",
    "3. Widzimy rezultat:\n",
    "![przykład](../img/przyklad.png)\n",
    "4. Wprowadzamy następne wyrażenie: ``8 / 2 % (9 - 1)``\n",
    "5. Znowu widzimy rezultat:\n",
    "![przykład2](../img/przyklad2.png)\n",
    "6. Wrowadzamy zamiast wyrażenia \"koniec zabawy\"\n",
    "7. Program odpowiada \"Zabawa się skończyła\" i już\n",
    "![koniec](../img/koniec.png)\n",
    "\n",
    "#### Detale implementacji\n",
    "Program składa się z 4 głownych modułów:\n",
    "1. moduł czytania i analizy leksykczej danych wejściowych użytkownika - prościej mowiąc czytami wyrażenie arytmetyczne i przetwarzamy go w listę mieszcząca leksemy i dodatkowe informacje o nich.\n",
    "2. moduł tłumaczenia notacji infiksowej na ONP - wewnętrznie wykorzystuje algorytm Edsgera Dijkstry - shunting yard algorithm.\n",
    "3. moduł budowania grafu arytmetycznego z listy tokenów za pomocą biblioteki networkx.\n",
    "4. moduł malowania grafu\n",
    "    * znaczenie colorów wierzchołków:\n",
    "        * zółty - oznacza początek grafu (korzeń drzewa składniowego)\n",
    "        * zielony - operatory (symbole działania)\n",
    "        * niebieski - liczby\n",
    "        * czerwony - zmienne\n",
    "    * znaczenie numerów krawedzi\n",
    "        * liczby na krawędziach reprezentują kolejność wykonywania działań, im mniejsza liczba tym operacja będzie miała większy priorytet. Tak jak program przyjmuje jako wejście wyrażenia tylko z operatorami binarnymi krawędz moje mieć numer \"1\" lub \"2\".\n",
    "\n",
    "#### Linki\n",
    "\n",
    "1. [netwokx](https://networkx.github.io/documentation/stable/tutorial.html)\n",
    "2. [matplotlib](https://matplotlib.org/)\n",
    "3. https://www.python.org/\n",
    "4. https://www.wikipedia.org/\n",
    "5. [wykorzystywany styl komentowania kodu](https://www.cs.swarthmore.edu/~newhall/unixhelp/c_codestyle.html)"
   ]
  },
  {
   "cell_type": "code",
   "execution_count": 1,
   "metadata": {},
   "outputs": [
    {
     "name": "stdout",
     "output_type": "stream",
     "text": [
      "Wprowadz wyrażenie matematyczne: 3 - 4\n",
      "[{'type': 'OPERATOR', 'value': '-', 'precedence': 3, 'associativity': 'left'}]\n",
      "[{'type': 'NUMBER', 'value': 3}, {'type': 'NUMBER', 'value': 4}]\n"
     ]
    },
    {
     "ename": "TypeError",
     "evalue": "'NoneType' object is not iterable",
     "output_type": "error",
     "traceback": [
      "\u001b[0;31m---------------------------------------------------------------------------\u001b[0m",
      "\u001b[0;31mTypeError\u001b[0m                                 Traceback (most recent call last)",
      "\u001b[0;32m<ipython-input-1-9f3a5229dc11>\u001b[0m in \u001b[0;36m<module>\u001b[0;34m\u001b[0m\n\u001b[1;32m     23\u001b[0m                 \u001b[0;31m# Krok № 1 funkcja przyjmuje jako argument tekst arytmetycznego wyrarzenia\u001b[0m\u001b[0;34m\u001b[0m\u001b[0;34m\u001b[0m\u001b[0;34m\u001b[0m\u001b[0m\n\u001b[1;32m     24\u001b[0m                 \u001b[0;31m# i przetwarza go w formę listy (tablicy) tokenów\u001b[0m\u001b[0;34m\u001b[0m\u001b[0;34m\u001b[0m\u001b[0;34m\u001b[0m\u001b[0m\n\u001b[0;32m---> 25\u001b[0;31m                 \u001b[0mtokenize\u001b[0m\u001b[0;34m(\u001b[0m\u001b[0muser_input\u001b[0m\u001b[0;34m)\u001b[0m\u001b[0;34m\u001b[0m\u001b[0;34m\u001b[0m\u001b[0m\n\u001b[0m\u001b[1;32m     26\u001b[0m             )\n\u001b[1;32m     27\u001b[0m         )\n",
      "\u001b[0;32m~/Desktop/Python/Arithmetic-Graph/src/utils/shunting_yard.py\u001b[0m in \u001b[0;36mconvert\u001b[0;34m(tokens)\u001b[0m\n\u001b[1;32m     71\u001b[0m         \u001b[0mprint\u001b[0m\u001b[0;34m(\u001b[0m\u001b[0mstack\u001b[0m\u001b[0;34m)\u001b[0m\u001b[0;34m\u001b[0m\u001b[0;34m\u001b[0m\u001b[0m\n\u001b[1;32m     72\u001b[0m         \u001b[0mprint\u001b[0m\u001b[0;34m(\u001b[0m\u001b[0moutq\u001b[0m\u001b[0;34m)\u001b[0m\u001b[0;34m\u001b[0m\u001b[0;34m\u001b[0m\u001b[0m\n\u001b[0;32m---> 73\u001b[0;31m         \u001b[0moutq\u001b[0m\u001b[0;34m.\u001b[0m\u001b[0mextend\u001b[0m\u001b[0;34m(\u001b[0m\u001b[0mstack\u001b[0m\u001b[0;34m.\u001b[0m\u001b[0mreverse\u001b[0m\u001b[0;34m(\u001b[0m\u001b[0;34m)\u001b[0m\u001b[0;34m)\u001b[0m\u001b[0;34m\u001b[0m\u001b[0;34m\u001b[0m\u001b[0m\n\u001b[0m\u001b[1;32m     74\u001b[0m \u001b[0;34m\u001b[0m\u001b[0m\n\u001b[1;32m     75\u001b[0m     \u001b[0;32mreturn\u001b[0m \u001b[0moutq\u001b[0m\u001b[0;34m\u001b[0m\u001b[0;34m\u001b[0m\u001b[0m\n",
      "\u001b[0;31mTypeError\u001b[0m: 'NoneType' object is not iterable"
     ]
    },
    {
     "data": {
      "text/plain": [
       "<Figure size 720x720 with 0 Axes>"
      ]
     },
     "metadata": {},
     "output_type": "display_data"
    }
   ],
   "source": [
    "%matplotlib inline\n",
    "\n",
    "import matplotlib.pyplot as plt\n",
    "from utils.tokenize import tokenize\n",
    "from utils.shunting_yard import convert\n",
    "from utils.ast import create_graph\n",
    "from utils.draw import draw\n",
    "\n",
    "user_input = input(\"Wprowadz wyrażenie matematyczne: \")\n",
    "\n",
    "# Pętla prosi użytkownika o wpisanie wyrażenia arytmetycznego (lub \"koniec zabawy\" albo \"q\", aby wyjść)\n",
    "# następnie tworzy w 3-ech krokach graf arytmetyczny i maluje go\n",
    "while user_input.lower() != \"koniec zabawy\" and user_input.lower() != \"q\":\n",
    "    plt.figure(figsize=(10,10))\n",
    "    # Maluje graf arytmetyczny\n",
    "    draw(\n",
    "        # Krok № 3 funkcja stwarza objekt klasy DiGraph (z bibloteki networkx) przedstawiający\n",
    "        # graf arytmetyczny\n",
    "        create_graph(\n",
    "            # Krok № 2 funkcja przyjmuje jako argument listę tokenów w notacji infiksowej\n",
    "            # i przetwarza go w odwrotną notacje polską (też w formie listy tokenów)\n",
    "            convert(\n",
    "                # Krok № 1 funkcja przyjmuje jako argument tekst arytmetycznego wyrarzenia\n",
    "                # i przetwarza go w formę listy (tablicy) tokenów\n",
    "                tokenize(user_input)\n",
    "            )\n",
    "        )\n",
    "    )\n",
    "    plt.show()\n",
    "    user_input = input(\"Wprowadz wyrażenie matematyczne: \")\n",
    "    \n",
    "print(\"\\nZabawa się skończyła\")"
   ]
  },
  {
   "cell_type": "markdown",
   "metadata": {},
   "source": [
    "## Wnioski i podsumowanie"
   ]
  },
  {
   "cell_type": "code",
   "execution_count": null,
   "metadata": {},
   "outputs": [],
   "source": []
  }
 ],
 "metadata": {
  "kernelspec": {
   "display_name": "Python 3",
   "language": "python",
   "name": "python3"
  },
  "language_info": {
   "codemirror_mode": {
    "name": "ipython",
    "version": 3
   },
   "file_extension": ".py",
   "mimetype": "text/x-python",
   "name": "python",
   "nbconvert_exporter": "python",
   "pygments_lexer": "ipython3",
   "version": "3.7.3"
  }
 },
 "nbformat": 4,
 "nbformat_minor": 2
}
